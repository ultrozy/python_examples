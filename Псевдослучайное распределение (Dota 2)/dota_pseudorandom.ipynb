{
 "cells": [
  {
   "cell_type": "code",
   "execution_count": 1,
   "metadata": {},
   "outputs": [],
   "source": [
    "import numpy as np\n",
    "import matplotlib.pyplot as plt\n",
    "from tqdm.notebook import tqdm"
   ]
  },
  {
   "cell_type": "code",
   "execution_count": 2,
   "metadata": {},
   "outputs": [],
   "source": [
    "def compute_p(q:np.float64):\n",
    "    if q == 0.0:\n",
    "        return 0.0\n",
    "    if q >= 0.5:\n",
    "        return 1/(2-q)\n",
    "    else:\n",
    "        N = 3\n",
    "        while q < 1/N:\n",
    "            N = N + 1\n",
    "        s = N\n",
    "        for i in range(N, 0, -1):\n",
    "            s = s * (1-i*q) + i * i * q\n",
    "        return 1/s"
   ]
  },
  {
   "cell_type": "code",
   "execution_count": 3,
   "metadata": {},
   "outputs": [],
   "source": [
    "def compute_q(p:np.float64):\n",
    "    if p == 0.0:\n",
    "        return 0.0\n",
    "    if p == 1.0:\n",
    "        return 1.0\n",
    "    LB = 0.0\n",
    "    UB = 1.0\n",
    "    guess = (LB + UB) * 0.5\n",
    "    p_guess = 0.0\n",
    "    while (LB < guess) and (guess < UB):\n",
    "        p_guess = compute_p(guess)\n",
    "        if p < p_guess:\n",
    "            UB = guess\n",
    "            guess = (LB + UB) * 0.5\n",
    "        elif p > p_guess:\n",
    "            LB = guess\n",
    "            guess = (LB + UB) * 0.5\n",
    "        else:\n",
    "            return guess\n",
    "    return guess"
   ]
  },
  {
   "cell_type": "code",
   "execution_count": 4,
   "metadata": {},
   "outputs": [],
   "source": [
    "def game_p(p:np.float64, N:np.uint):\n",
    "    a = np.random.rand((N))\n",
    "    return np.count_nonzero(a < p) / N"
   ]
  },
  {
   "cell_type": "code",
   "execution_count": 5,
   "metadata": {},
   "outputs": [],
   "source": [
    "def game_q(q:np.float64, N:np.uint):\n",
    "    a = np.random.rand((N))\n",
    "    curq = q\n",
    "    count = 0\n",
    "    for i in range(N):\n",
    "        if a[i] < curq:\n",
    "            count += 1\n",
    "            curq = q\n",
    "        else:\n",
    "            curq += q\n",
    "    return count / N"
   ]
  },
  {
   "cell_type": "code",
   "execution_count": 6,
   "metadata": {},
   "outputs": [
    {
     "data": {
      "text/plain": [
       "0.08474409185231702"
      ]
     },
     "execution_count": 6,
     "metadata": {},
     "output_type": "execute_result"
    }
   ],
   "source": [
    "compute_q(0.25)"
   ]
  }
 ],
 "metadata": {
  "kernelspec": {
   "display_name": "Python 3",
   "language": "python",
   "name": "python3"
  },
  "language_info": {
   "codemirror_mode": {
    "name": "ipython",
    "version": 3
   },
   "file_extension": ".py",
   "mimetype": "text/x-python",
   "name": "python",
   "nbconvert_exporter": "python",
   "pygments_lexer": "ipython3",
   "version": "3.9.2"
  }
 },
 "nbformat": 4,
 "nbformat_minor": 4
}
