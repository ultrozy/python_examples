{
 "cells": [
  {
   "cell_type": "code",
   "execution_count": 1,
   "id": "entertaining-output",
   "metadata": {},
   "outputs": [],
   "source": [
    "import numpy as np"
   ]
  },
  {
   "cell_type": "code",
   "execution_count": 2,
   "id": "three-bolivia",
   "metadata": {},
   "outputs": [],
   "source": [
    "def predecessors(probs: list, target: int):\n",
    "    N = len(probs)\n",
    "    not_reached = set(range(N)) - {target}\n",
    "    recent = {target}\n",
    "    while len(recent):\n",
    "        new = set()\n",
    "        for j in recent:\n",
    "            for i in not_reached:\n",
    "                if probs[i][j] > 0.0:\n",
    "                    new.add(i)\n",
    "        not_reached -= new\n",
    "        recent = new\n",
    "    \n",
    "    if not len(not_reached):\n",
    "        return np.ones(N)\n",
    "    a = probs - np.eye(N)\n",
    "    b = np.zeros(N)\n",
    "    for i in not_reached:\n",
    "        a[i] = np.zeros(N)\n",
    "        a[i, i] = 1\n",
    "    b[target] = 1\n",
    "    a[target] = np.zeros(N)\n",
    "    a[target, target] = 1\n",
    "    return np.linalg.solve(a, b)"
   ]
  },
  {
   "cell_type": "code",
   "execution_count": 3,
   "id": "preceding-friendly",
   "metadata": {},
   "outputs": [],
   "source": [
    "def average_steps(probs: list, target: int):\n",
    "    N = len(probs)\n",
    "    not_reached = set(range(N)) - {target}\n",
    "    recent = {target}\n",
    "    while len(recent):\n",
    "        new = set()\n",
    "        for j in recent:\n",
    "            for i in not_reached:\n",
    "                if probs[i][j] > 0.0:\n",
    "                    new.add(i)\n",
    "        not_reached -= new\n",
    "        recent = new\n",
    "    \n",
    "    if len(not_reached):\n",
    "        probs = np.full((N), np.inf)\n",
    "        probs[target] = 0.0\n",
    "        return probs\n",
    "\n",
    "    probs = np.array(probs)\n",
    "    a = np.eye(N) - probs\n",
    "    b = np.ones(N)\n",
    "    a[target] = np.zeros(N)\n",
    "    a[target, target] = 1\n",
    "    b[target] = 0\n",
    "    return np.linalg.solve(a, b)"
   ]
  }
 ],
 "metadata": {
  "kernelspec": {
   "display_name": "Python 3",
   "language": "python",
   "name": "python3"
  },
  "language_info": {
   "codemirror_mode": {
    "name": "ipython",
    "version": 3
   },
   "file_extension": ".py",
   "mimetype": "text/x-python",
   "name": "python",
   "nbconvert_exporter": "python",
   "pygments_lexer": "ipython3",
   "version": "3.9.2"
  }
 },
 "nbformat": 4,
 "nbformat_minor": 5
}
